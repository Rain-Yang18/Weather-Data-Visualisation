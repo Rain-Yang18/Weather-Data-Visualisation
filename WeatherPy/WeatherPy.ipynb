{
 "cells": [
  {
   "cell_type": "markdown",
   "metadata": {},
   "source": [
    "# WeatherPy\n",
    "----\n",
    "\n",
    "#### Note\n",
    "* Instructions have been included for each segment. You do not have to follow them exactly, but they are included to help you think through the steps."
   ]
  },
  {
   "cell_type": "code",
   "execution_count": 1,
   "metadata": {
    "scrolled": true
   },
   "outputs": [],
   "source": [
    "# Import all the dependencies\n",
    "\n",
    "import matplotlib.pyplot as plt\n",
    "import pandas as pd\n",
    "import scipy.stats as st\n",
    "from scipy.stats import linregress\n",
    "import requests\n",
    "import json\n",
    "import random\n",
    "from pprint import pprint\n",
    "from api_keys import weather_api_key\n",
    "from api_keys import g_key\n",
    "from citipy import citipy\n",
    "\n",
    "import numpy as np"
   ]
  },
  {
   "cell_type": "markdown",
   "metadata": {},
   "source": [
    "## Generate Cities List"
   ]
  },
  {
   "cell_type": "code",
   "execution_count": 2,
   "metadata": {},
   "outputs": [],
   "source": [
    "#generate random list for latitudes and longitudes \n",
    "\n",
    "latitude = []\n",
    "longitude = []\n",
    "\n",
    "for lat in np.random.uniform(-90,90,1800):\n",
    "    latitude.append(lat)\n",
    "\n",
    "for lng in np.random.uniform(-180,180,1800):\n",
    "    longitude.append(lng)"
   ]
  },
  {
   "cell_type": "code",
   "execution_count": 3,
   "metadata": {},
   "outputs": [],
   "source": [
    "# Zip the latitude and longtitude combination\n",
    "city_location = []\n",
    "\n",
    "city_location = zip(latitude, longitude)"
   ]
  },
  {
   "cell_type": "code",
   "execution_count": 4,
   "metadata": {},
   "outputs": [],
   "source": [
    "# Find the nearest city by using citipy\n",
    "\n",
    "cities_list = []\n",
    "\n",
    "for location in city_location:\n",
    "    \n",
    "    city = citipy.nearest_city(location[0], location[1]).city_name\n",
    "    \n",
    "    cities_list.append(city)"
   ]
  },
  {
   "cell_type": "code",
   "execution_count": 5,
   "metadata": {},
   "outputs": [
    {
     "data": {
      "text/plain": [
       "691"
      ]
     },
     "execution_count": 5,
     "metadata": {},
     "output_type": "execute_result"
    }
   ],
   "source": [
    "# Create a DataFrame and remove all the duplicate cities\n",
    "city_df = pd.DataFrame({\"City\": cities_list}).drop_duplicates(subset=['City'])\n",
    "\n",
    "# Check the number of unique cities left in the DataFrame\n",
    "len(city_df)\n"
   ]
  },
  {
   "cell_type": "markdown",
   "metadata": {},
   "source": [
    "### Perform API Calls\n",
    "* Perform a weather check on each city using a series of successive API calls.\n",
    "* Include a print log of each city as it'sbeing processed (with the city number and city name).\n"
   ]
  },
  {
   "cell_type": "code",
   "execution_count": 6,
   "metadata": {},
   "outputs": [],
   "source": [
    "# Weather check, save base_url and the units for temperature\n",
    "\n",
    "base_url = \"http://api.openweathermap.org/data/2.5/weather?\"\n",
    "\n",
    "units = \"imperial\"\n",
    "\n",
    "# Build query_url \n",
    "\n",
    "query_url = f\"{base_url}appid={weather_api_key}&units={units}&q=\"\n",
    "\n",
    "API_cities = city_df[\"City\"]\n",
    "\n",
    "# The list of variables we're trying to retrieve from the API\n",
    "# Create empty list to store them\n",
    "\n",
    "City = []\n",
    "Lat = []\n",
    "Lng = []\n",
    "Max_Temp = []\n",
    "Humidity = []\n",
    "Cloudiness = []\n",
    "Wind_Speed = []\n",
    "Country = []\n",
    "Date = []\n"
   ]
  },
  {
   "cell_type": "code",
   "execution_count": 7,
   "metadata": {
    "scrolled": true
   },
   "outputs": [
    {
     "name": "stdout",
     "output_type": "stream",
     "text": [
      "Beginning Data Retrieval     \n",
      "-----------------------------\n",
      "Country information not found.\n",
      "Processing Record 1 | saint-philippe\n",
      "Processing Record 2 | nizhniy kuranakh\n",
      "Processing Record 3 | rikitea\n",
      "Processing Record 4 | arraial do cabo\n",
      "Processing Record 5 | bilibino\n",
      "Processing Record 6 | benatky nad jizerou\n",
      "Processing Record 7 | jumla\n",
      "Processing Record 8 | cape town\n",
      "Processing Record 9 | tiksi\n",
      "Processing Record 10 | port alfred\n",
      "Processing Record 11 | yellowknife\n",
      "Processing Record 12 | carnarvon\n",
      "Processing Record 13 | siena\n",
      "Processing Record 14 | atuona\n",
      "Processing Record 15 | mondovi\n",
      "Processing Record 16 | rosita\n",
      "Country information not found.\n",
      "Processing Record 17 | kavieng\n",
      "Processing Record 18 | sturgeon falls\n",
      "Processing Record 19 | atasu\n",
      "Processing Record 20 | castro\n",
      "Processing Record 21 | vostok\n",
      "Processing Record 22 | shenjiamen\n",
      "Processing Record 23 | omboue\n",
      "Processing Record 24 | bethel\n",
      "Processing Record 25 | conde\n",
      "Processing Record 26 | kaitangata\n",
      "Processing Record 27 | ushuaia\n",
      "Processing Record 28 | bredasdorp\n",
      "Processing Record 29 | norman wells\n",
      "Processing Record 30 | ponta do sol\n",
      "Processing Record 31 | punta arenas\n",
      "Country information not found.\n",
      "Country information not found.\n",
      "Processing Record 32 | kitui\n",
      "Processing Record 33 | alto araguaia\n",
      "Processing Record 34 | aras\n",
      "Processing Record 35 | kapaa\n",
      "Processing Record 36 | belaya gora\n",
      "Processing Record 37 | sitka\n",
      "Processing Record 38 | rancho palos verdes\n",
      "Processing Record 39 | mandalgovi\n",
      "Processing Record 40 | mahebourg\n",
      "Processing Record 41 | mataura\n",
      "Country information not found.\n",
      "Processing Record 42 | tuquerres\n",
      "Processing Record 43 | dikson\n",
      "Processing Record 44 | aklavik\n",
      "Processing Record 45 | ahuimanu\n",
      "Processing Record 46 | kruisfontein\n",
      "Processing Record 47 | yerbogachen\n",
      "Processing Record 48 | havoysund\n",
      "Country information not found.\n",
      "Processing Record 49 | airai\n",
      "Country information not found.\n",
      "Processing Record 50 | jamestown\n",
      "Country information not found.\n",
      "Processing Record 51 | thompson\n",
      "Processing Record 52 | macia\n",
      "Processing Record 53 | port lincoln\n",
      "Country information not found.\n",
      "Processing Record 54 | grand gaube\n",
      "Processing Record 55 | albany\n",
      "Processing Record 56 | hermanus\n",
      "Processing Record 57 | wanxian\n",
      "Country information not found.\n",
      "Processing Record 58 | lagoa\n",
      "Country information not found.\n",
      "Processing Record 59 | luderitz\n",
      "Processing Record 60 | lasa\n",
      "Processing Record 61 | molepolole\n",
      "Processing Record 62 | basco\n",
      "Processing Record 63 | narsaq\n",
      "Processing Record 64 | ilulissat\n",
      "Processing Record 65 | vaini\n",
      "Processing Record 66 | ust-nera\n",
      "Processing Record 67 | thunder bay\n",
      "Processing Record 68 | souillac\n",
      "Processing Record 69 | chokurdakh\n",
      "Processing Record 70 | busselton\n",
      "Processing Record 71 | fukue\n",
      "Processing Record 72 | lompoc\n",
      "Processing Record 73 | ribeira grande\n",
      "Processing Record 74 | salalah\n",
      "Processing Record 75 | fruitvale\n",
      "Country information not found.\n",
      "Processing Record 76 | rio gallegos\n",
      "Processing Record 77 | barrow\n",
      "Processing Record 78 | bluff\n",
      "Processing Record 79 | hilo\n",
      "Processing Record 80 | tuktoyaktuk\n",
      "Processing Record 81 | valparaiso\n",
      "Processing Record 82 | chuy\n",
      "Processing Record 83 | kloulklubed\n",
      "Processing Record 84 | magole\n",
      "Processing Record 85 | nikolskoye\n",
      "Processing Record 86 | concordia\n",
      "Processing Record 87 | nakanojo\n",
      "Country information not found.\n",
      "Country information not found.\n",
      "Processing Record 88 | batagay\n",
      "Processing Record 89 | erdenet\n",
      "Country information not found.\n",
      "Processing Record 90 | saldanha\n",
      "Processing Record 91 | bambous virieux\n",
      "Processing Record 92 | severo-kurilsk\n",
      "Processing Record 93 | nouakchott\n",
      "Processing Record 94 | puerto ayora\n",
      "Processing Record 95 | cururupu\n",
      "Processing Record 96 | naples\n",
      "Processing Record 97 | fare\n",
      "Processing Record 98 | bara\n",
      "Processing Record 99 | alekseyevsk\n",
      "Processing Record 100 | paamiut\n",
      "Processing Record 101 | north bend\n",
      "Processing Record 102 | butaritari\n",
      "Country information not found.\n",
      "Processing Record 103 | saskylakh\n",
      "Processing Record 104 | dobele\n",
      "Processing Record 105 | gambela\n",
      "Processing Record 106 | jinhua\n",
      "Processing Record 107 | camacha\n",
      "Processing Record 108 | college\n",
      "Processing Record 109 | batamshinskiy\n",
      "Processing Record 110 | abu samrah\n",
      "Processing Record 111 | denpasar\n",
      "Processing Record 112 | khatanga\n",
      "Processing Record 113 | kodiak\n",
      "Country information not found.\n",
      "Country information not found.\n",
      "Processing Record 114 | port elizabeth\n",
      "Processing Record 115 | makat\n",
      "Processing Record 116 | cidreira\n",
      "Processing Record 117 | kemin\n",
      "Processing Record 118 | longyearbyen\n",
      "Processing Record 119 | fortuna\n",
      "Processing Record 120 | shimoda\n",
      "Processing Record 121 | upernavik\n",
      "Processing Record 122 | vargem grande\n",
      "Processing Record 123 | kavaratti\n",
      "Processing Record 124 | genhe\n",
      "Processing Record 125 | esmeraldas\n",
      "Processing Record 126 | hobart\n",
      "Processing Record 127 | plettenberg bay\n",
      "Processing Record 128 | hithadhoo\n",
      "Processing Record 129 | mar del plata\n",
      "Processing Record 130 | chapais\n",
      "Processing Record 131 | nome\n",
      "Processing Record 132 | tazovskiy\n",
      "Processing Record 133 | jalu\n",
      "Processing Record 134 | east london\n",
      "Processing Record 135 | ginda\n",
      "Processing Record 136 | faya\n",
      "Processing Record 137 | balikpapan\n",
      "Processing Record 138 | sao joao da barra\n",
      "Processing Record 139 | shelburne\n",
      "Processing Record 140 | praya\n",
      "Processing Record 141 | clyde river\n",
      "Country information not found.\n",
      "Country information not found.\n",
      "Processing Record 142 | cherskiy\n",
      "Processing Record 143 | san andres\n",
      "Processing Record 144 | quilmana\n",
      "Processing Record 145 | chara\n",
      "Processing Record 146 | qaanaaq\n",
      "Processing Record 147 | lorengau\n",
      "Processing Record 148 | esperance\n",
      "Processing Record 149 | rabo de peixe\n",
      "Processing Record 150 | mount pleasant\n",
      "Processing Record 151 | bathsheba\n",
      "Processing Record 152 | hefei\n",
      "Processing Record 153 | kribi\n",
      "Processing Record 154 | vilhena\n",
      "Processing Record 155 | halifax\n",
      "Processing Record 156 | ayorou\n",
      "Processing Record 157 | adre\n",
      "Processing Record 158 | namibe\n",
      "Processing Record 159 | quatre cocos\n",
      "Processing Record 160 | saint-joseph\n",
      "Processing Record 161 | ulaangom\n",
      "Processing Record 162 | rio grande\n",
      "Processing Record 163 | aswan\n",
      "Processing Record 164 | riyadh\n",
      "Processing Record 165 | irituia\n",
      "Processing Record 166 | krasnoselkup\n",
      "Processing Record 167 | arua\n",
      "Processing Record 168 | iralaya\n",
      "Processing Record 169 | dombarovskiy\n",
      "Processing Record 170 | tibati\n",
      "Processing Record 171 | yulara\n",
      "Processing Record 172 | adrar\n",
      "Processing Record 173 | vestmannaeyjar\n",
      "Processing Record 174 | riviere-au-renard\n",
      "Processing Record 175 | mount gambier\n",
      "Processing Record 176 | morondava\n",
      "Processing Record 177 | pahalgam\n",
      "Processing Record 178 | manggar\n",
      "Processing Record 179 | avarua\n",
      "Processing Record 180 | port macquarie\n",
      "Country information not found.\n",
      "Processing Record 181 | terra santa\n",
      "Processing Record 182 | portland\n",
      "Processing Record 183 | taoudenni\n",
      "Processing Record 184 | waterloo\n",
      "Processing Record 185 | hervey bay\n",
      "Country information not found.\n",
      "Processing Record 186 | metro\n",
      "Processing Record 187 | xai-xai\n",
      "Processing Record 188 | yenagoa\n",
      "Processing Record 189 | geraldton\n",
      "Processing Record 190 | georgetown\n",
      "Processing Record 191 | vila velha\n",
      "Processing Record 192 | xiaoweizhai\n",
      "Processing Record 193 | victoria\n",
      "Processing Record 194 | harper\n",
      "Processing Record 195 | great yarmouth\n",
      "Processing Record 196 | paris\n",
      "Processing Record 197 | lebu\n",
      "Processing Record 198 | dunedin\n",
      "Processing Record 199 | malanje\n",
      "Processing Record 200 | havre-saint-pierre\n",
      "Processing Record 201 | tasiilaq\n",
      "Processing Record 202 | kabo\n",
      "Processing Record 203 | tuatapere\n",
      "Processing Record 204 | ukiah\n",
      "Processing Record 205 | balkanabat\n",
      "Processing Record 206 | san nicolas\n",
      "Processing Record 207 | new norfolk\n",
      "Processing Record 208 | san cristobal\n",
      "Processing Record 209 | nantucket\n",
      "Processing Record 210 | vung tau\n",
      "Processing Record 211 | westport\n",
      "Processing Record 212 | tiznit\n",
      "Processing Record 213 | sur\n",
      "Processing Record 214 | koumac\n",
      "Processing Record 215 | nisia floresta\n",
      "Country information not found.\n",
      "Processing Record 216 | aberdeen\n",
      "Processing Record 217 | ronda\n",
      "Processing Record 218 | ferme-neuve\n",
      "Processing Record 219 | laguna\n",
      "Processing Record 220 | mayakovski\n",
      "Processing Record 221 | senanga\n",
      "Processing Record 222 | bandarbeyla\n",
      "Processing Record 223 | lethem\n",
      "Processing Record 224 | yelizovo\n",
      "Processing Record 225 | broome\n"
     ]
    },
    {
     "name": "stdout",
     "output_type": "stream",
     "text": [
      "Processing Record 226 | anadyr\n",
      "Country information not found.\n",
      "Processing Record 227 | comarapa\n",
      "Processing Record 228 | dalipuga\n",
      "Processing Record 229 | maniitsoq\n",
      "Processing Record 230 | mitsamiouli\n",
      "Processing Record 231 | constitucion\n",
      "Processing Record 232 | torbay\n",
      "Processing Record 233 | sorland\n",
      "Processing Record 234 | hay river\n",
      "Processing Record 235 | mingaora\n",
      "Processing Record 236 | shache\n",
      "Processing Record 237 | san quintin\n",
      "Processing Record 238 | taicheng\n",
      "Processing Record 239 | dalby\n",
      "Country information not found.\n",
      "Country information not found.\n",
      "Country information not found.\n",
      "Processing Record 240 | melo\n",
      "Processing Record 241 | bukachacha\n",
      "Processing Record 242 | correntina\n",
      "Processing Record 243 | chifeng\n",
      "Processing Record 244 | boa vista\n",
      "Processing Record 245 | laramie\n",
      "Processing Record 246 | tual\n",
      "Processing Record 247 | manavalakurichi\n",
      "Processing Record 248 | tautira\n",
      "Processing Record 249 | sydney\n",
      "Processing Record 250 | huanren\n",
      "Processing Record 251 | yumen\n",
      "Processing Record 252 | leningradskiy\n",
      "Processing Record 253 | kiunga\n",
      "Processing Record 254 | kununurra\n",
      "Processing Record 255 | ginir\n",
      "Processing Record 256 | mayor pablo lagerenza\n",
      "Processing Record 257 | padang\n",
      "Processing Record 258 | sabang\n",
      "Processing Record 259 | inhambane\n",
      "Processing Record 260 | marfino\n",
      "Processing Record 261 | letcani\n",
      "Processing Record 262 | virginia beach\n",
      "Processing Record 263 | tondano\n",
      "Processing Record 264 | kathu\n",
      "Processing Record 265 | ufimskiy\n",
      "Processing Record 266 | shubarkuduk\n",
      "Processing Record 267 | moindou\n",
      "Processing Record 268 | touros\n",
      "Processing Record 269 | kieta\n",
      "Processing Record 270 | suba\n",
      "Processing Record 271 | te anau\n",
      "Processing Record 272 | mamallapuram\n",
      "Country information not found.\n",
      "Processing Record 273 | lavrentiya\n",
      "Processing Record 274 | ust-maya\n",
      "Processing Record 275 | samdari\n",
      "Processing Record 276 | syracuse\n",
      "Processing Record 277 | ocampo\n",
      "Processing Record 278 | ancud\n",
      "Processing Record 279 | bengkulu\n",
      "Processing Record 280 | saint-ambroise\n",
      "Country information not found.\n",
      "Processing Record 281 | kabirwala\n",
      "Processing Record 282 | saint-augustin\n",
      "Processing Record 283 | imuris\n",
      "Processing Record 284 | turbat\n",
      "Processing Record 285 | marshfield\n",
      "Processing Record 286 | ketchikan\n",
      "Country information not found.\n",
      "Processing Record 287 | port hardy\n",
      "Processing Record 288 | faanui\n",
      "Processing Record 289 | novikovo\n",
      "Processing Record 290 | provideniya\n",
      "Processing Record 291 | casian\n",
      "Processing Record 292 | hamilton\n",
      "Processing Record 293 | turayf\n",
      "Processing Record 294 | pundaguitan\n",
      "Country information not found.\n",
      "Country information not found.\n",
      "Processing Record 295 | okhotsk\n",
      "Processing Record 296 | mayumba\n",
      "Processing Record 297 | aviles\n",
      "Processing Record 298 | sai buri\n",
      "Processing Record 299 | los llanos de aridane\n",
      "Processing Record 300 | tuy hoa\n",
      "Processing Record 301 | port-gentil\n",
      "Processing Record 302 | havelock\n",
      "Country information not found.\n",
      "Processing Record 303 | shagonar\n",
      "Processing Record 304 | beidao\n",
      "Processing Record 305 | kawhia\n",
      "Processing Record 306 | simao\n",
      "Processing Record 307 | godhra\n",
      "Processing Record 308 | mpika\n",
      "Processing Record 309 | saint george\n",
      "Processing Record 310 | vardo\n",
      "Country information not found.\n",
      "Processing Record 311 | verkhovye\n",
      "Processing Record 312 | kampot\n",
      "Processing Record 313 | mogadishu\n",
      "Processing Record 314 | ust-tsilma\n",
      "Processing Record 315 | kamariotissa\n",
      "Processing Record 316 | guiyang\n",
      "Processing Record 317 | edremit\n",
      "Processing Record 318 | boshan\n",
      "Processing Record 319 | manhattan\n",
      "Processing Record 320 | ambon\n",
      "Processing Record 321 | akhnur\n",
      "Processing Record 322 | broken hill\n",
      "Processing Record 323 | selenduma\n",
      "Processing Record 324 | turukhansk\n",
      "Processing Record 325 | henties bay\n",
      "Processing Record 326 | mitu\n",
      "Processing Record 327 | penzance\n",
      "Processing Record 328 | price\n",
      "Processing Record 329 | hofn\n",
      "Processing Record 330 | marsh harbour\n",
      "Processing Record 331 | hasaki\n",
      "Processing Record 332 | baykit\n",
      "Processing Record 333 | dharchula\n",
      "Processing Record 334 | hobyo\n",
      "Processing Record 335 | bitung\n",
      "Processing Record 336 | mount isa\n",
      "Processing Record 337 | talnakh\n",
      "Processing Record 338 | tura\n",
      "Country information not found.\n",
      "Processing Record 339 | zhangye\n",
      "Processing Record 340 | fatsa\n",
      "Processing Record 341 | leh\n",
      "Processing Record 342 | hoi an\n",
      "Processing Record 343 | santiago\n",
      "Processing Record 344 | trairi\n",
      "Processing Record 345 | vredendal\n",
      "Processing Record 346 | sal rei\n",
      "Processing Record 347 | santa maria\n",
      "Processing Record 348 | asau\n",
      "Processing Record 349 | banda aceh\n",
      "Country information not found.\n",
      "Processing Record 350 | anloga\n",
      "Processing Record 351 | dzaoudzi\n",
      "Processing Record 352 | amazar\n",
      "Processing Record 353 | apricena\n",
      "Processing Record 354 | seguela\n",
      "Processing Record 355 | pemba\n",
      "Processing Record 356 | grand-lahou\n",
      "Processing Record 357 | katobu\n",
      "Processing Record 358 | puerto escondido\n",
      "Processing Record 359 | loiza\n",
      "Processing Record 360 | elk river\n",
      "Processing Record 361 | navsari\n",
      "Country information not found.\n",
      "Processing Record 362 | kontagora\n",
      "Processing Record 363 | labytnangi\n",
      "Processing Record 364 | haines junction\n",
      "Processing Record 365 | gerash\n",
      "Processing Record 366 | berlevag\n",
      "Processing Record 367 | giyani\n",
      "Processing Record 368 | tukrah\n",
      "Processing Record 369 | san jose de ocoa\n",
      "Processing Record 370 | ahipara\n",
      "Processing Record 371 | tenosique\n",
      "Processing Record 372 | buchanan\n",
      "Processing Record 373 | springdale\n",
      "Processing Record 374 | port hedland\n",
      "Processing Record 375 | novopetrovskoye\n",
      "Processing Record 376 | dimapur\n",
      "Processing Record 377 | guanica\n",
      "Processing Record 378 | celestun\n",
      "Processing Record 379 | eureka\n",
      "Processing Record 380 | kahului\n",
      "Processing Record 381 | wanning\n",
      "Processing Record 382 | sao gabriel da cachoeira\n",
      "Processing Record 383 | kaohsiung\n",
      "Processing Record 384 | saint-francois\n",
      "Processing Record 385 | bogorodskoye\n",
      "Processing Record 386 | gubkinskiy\n",
      "Processing Record 387 | jiuquan\n",
      "Processing Record 388 | savannah bight\n",
      "Processing Record 389 | katangli\n",
      "Processing Record 390 | flin flon\n",
      "Processing Record 391 | semey\n",
      "Processing Record 392 | pisco\n",
      "Processing Record 393 | menongue\n",
      "Processing Record 394 | bequimao\n",
      "Processing Record 395 | davila\n",
      "Processing Record 396 | vila franca do campo\n",
      "Processing Record 397 | agirish\n",
      "Processing Record 398 | north platte\n",
      "Processing Record 399 | bobcaygeon\n",
      "Processing Record 400 | bonthe\n",
      "Processing Record 401 | jizan\n",
      "Processing Record 402 | mahibadhoo\n",
      "Processing Record 403 | torres\n",
      "Processing Record 404 | glenwood springs\n",
      "Processing Record 405 | najran\n",
      "Processing Record 406 | nelson bay\n",
      "Processing Record 407 | saint-pierre\n",
      "Processing Record 408 | bud\n",
      "Processing Record 409 | cochrane\n",
      "Processing Record 410 | san patricio\n",
      "Processing Record 411 | kantang\n",
      "Processing Record 412 | ornskoldsvik\n",
      "Processing Record 413 | yeniseysk\n",
      "Processing Record 414 | kidodi\n",
      "Processing Record 415 | richards bay\n",
      "Processing Record 416 | kuito\n",
      "Processing Record 417 | khor\n",
      "Processing Record 418 | dhidhdhoo\n",
      "Country information not found.\n",
      "Processing Record 419 | cabo san lucas\n",
      "Processing Record 420 | manakara\n",
      "Country information not found.\n",
      "Processing Record 421 | gat\n",
      "Processing Record 422 | iranshahr\n",
      "Processing Record 423 | coahuayana\n",
      "Processing Record 424 | whitecourt\n",
      "Processing Record 425 | hami\n",
      "Processing Record 426 | kargasok\n",
      "Processing Record 427 | guerrero negro\n",
      "Country information not found.\n",
      "Processing Record 428 | nahrin\n",
      "Processing Record 429 | mezhdurechensk\n",
      "Processing Record 430 | copiapo\n",
      "Processing Record 431 | poum\n",
      "Processing Record 432 | olhao\n",
      "Processing Record 433 | mattru\n",
      "Processing Record 434 | usinsk\n",
      "Processing Record 435 | butembo\n",
      "Processing Record 436 | batesville\n",
      "Processing Record 437 | shangzhi\n",
      "Processing Record 438 | tuljapur\n",
      "Processing Record 439 | porto novo\n",
      "Processing Record 440 | agutaya\n",
      "Processing Record 441 | salina\n",
      "Processing Record 442 | codrington\n",
      "Processing Record 443 | gimli\n",
      "Processing Record 444 | itarema\n",
      "Processing Record 445 | gaogou\n",
      "Country information not found.\n",
      "Processing Record 446 | sinnamary\n",
      "Processing Record 447 | lata\n",
      "Processing Record 448 | suntar\n",
      "Processing Record 449 | killybegs\n",
      "Processing Record 450 | carutapera\n",
      "Processing Record 451 | iqaluit\n",
      "Processing Record 452 | alice springs\n",
      "Processing Record 453 | camacupa\n",
      "Processing Record 454 | puerto ayacucho\n",
      "Processing Record 455 | monster\n"
     ]
    },
    {
     "name": "stdout",
     "output_type": "stream",
     "text": [
      "Processing Record 456 | olinda\n",
      "Processing Record 457 | ferrol\n",
      "Processing Record 458 | mujiayingzi\n",
      "Country information not found.\n",
      "Processing Record 459 | klaksvik\n",
      "Processing Record 460 | gunjur\n",
      "Country information not found.\n",
      "Processing Record 461 | puerto del rosario\n",
      "Country information not found.\n",
      "Processing Record 462 | redding\n",
      "Processing Record 463 | nemuro\n",
      "Processing Record 464 | naze\n",
      "Processing Record 465 | yatou\n",
      "Processing Record 466 | dingle\n",
      "Processing Record 467 | soyo\n",
      "Country information not found.\n",
      "Processing Record 468 | kokstad\n",
      "Processing Record 469 | macau\n",
      "Country information not found.\n",
      "Processing Record 470 | adana\n",
      "Processing Record 471 | ladybrand\n",
      "Processing Record 472 | mehamn\n",
      "Processing Record 473 | urucara\n",
      "Processing Record 474 | vao\n",
      "Processing Record 475 | micheweni\n",
      "Processing Record 476 | arkul\n",
      "Processing Record 477 | karratha\n",
      "Processing Record 478 | hearst\n",
      "Processing Record 479 | mecca\n",
      "Processing Record 480 | ibra\n",
      "Country information not found.\n",
      "Processing Record 481 | ardahan\n",
      "Processing Record 482 | cuamba\n",
      "Processing Record 483 | cockburn town\n",
      "Processing Record 484 | radaseni\n",
      "Processing Record 485 | komsomolskiy\n",
      "Processing Record 486 | teya\n",
      "Processing Record 487 | haverfordwest\n",
      "Processing Record 488 | isangel\n",
      "Processing Record 489 | lieksa\n",
      "Processing Record 490 | mugur-aksy\n",
      "Processing Record 491 | biltine\n",
      "Country information not found.\n",
      "Processing Record 492 | stokmarknes\n",
      "Processing Record 493 | varkaus\n",
      "Processing Record 494 | amahai\n",
      "Processing Record 495 | yemtsa\n",
      "Processing Record 496 | ambunti\n",
      "Processing Record 497 | tytuvenai\n",
      "Processing Record 498 | cucutilla\n",
      "Processing Record 499 | northam\n",
      "Processing Record 500 | loikaw\n",
      "Processing Record 501 | arona\n",
      "Processing Record 502 | xingyi\n",
      "Processing Record 503 | el paso\n",
      "Processing Record 504 | byron bay\n",
      "Processing Record 505 | antsohihy\n",
      "Country information not found.\n",
      "Processing Record 506 | katsuura\n",
      "Processing Record 507 | xam nua\n",
      "Processing Record 508 | yaan\n",
      "Processing Record 509 | gusau\n",
      "Processing Record 510 | san luis\n",
      "Processing Record 511 | margate\n",
      "Processing Record 512 | wencheng\n",
      "Processing Record 513 | rawson\n",
      "Country information not found.\n",
      "Processing Record 514 | kushiro\n",
      "Processing Record 515 | ati\n",
      "Processing Record 516 | raudeberg\n",
      "Processing Record 517 | pringsewu\n",
      "Processing Record 518 | denizli\n",
      "Processing Record 519 | acarau\n",
      "Processing Record 520 | alenquer\n",
      "Processing Record 521 | gorele\n",
      "Processing Record 522 | avera\n",
      "Processing Record 523 | guasdualito\n",
      "Country information not found.\n",
      "Processing Record 524 | lisala\n",
      "Processing Record 525 | hvide sande\n",
      "Processing Record 526 | tomatlan\n",
      "Processing Record 527 | balsas\n",
      "Processing Record 528 | nardaran\n",
      "Country information not found.\n",
      "Processing Record 529 | pangnirtung\n",
      "Processing Record 530 | morlaix\n",
      "Processing Record 531 | sadri\n",
      "Processing Record 532 | myitkyina\n",
      "Processing Record 533 | morros\n",
      "Processing Record 534 | coquimbo\n",
      "Processing Record 535 | comodoro rivadavia\n",
      "Processing Record 536 | kansanshi\n",
      "Processing Record 537 | erzin\n",
      "Processing Record 538 | grindavik\n",
      "Processing Record 539 | kapuskasing\n",
      "Processing Record 540 | guilin\n",
      "Processing Record 541 | garachine\n",
      "Processing Record 542 | cayenne\n",
      "Processing Record 543 | yarmouth\n",
      "Processing Record 544 | prado\n",
      "Processing Record 545 | conceicao do araguaia\n",
      "Processing Record 546 | helong\n",
      "Processing Record 547 | palmer\n",
      "Processing Record 548 | srednekolymsk\n",
      "Processing Record 549 | gumdag\n",
      "Processing Record 550 | kenda\n",
      "Processing Record 551 | seydi\n",
      "Processing Record 552 | cruz das almas\n",
      "Processing Record 553 | huilong\n",
      "Processing Record 554 | vanimo\n",
      "Processing Record 555 | lovozero\n",
      "Country information not found.\n",
      "Processing Record 556 | agadir\n",
      "Processing Record 557 | nikolayevsk-na-amure\n",
      "Processing Record 558 | staroutkinsk\n",
      "Processing Record 559 | husavik\n",
      "Processing Record 560 | letlhakeng\n",
      "Processing Record 561 | lodja\n",
      "Processing Record 562 | kaniama\n",
      "Processing Record 563 | dekar\n",
      "Processing Record 564 | samarai\n",
      "Processing Record 565 | hanover\n",
      "Processing Record 566 | gushikawa\n",
      "Processing Record 567 | evensk\n",
      "Processing Record 568 | strzegom\n",
      "Processing Record 569 | sola\n",
      "Processing Record 570 | gravdal\n",
      "Processing Record 571 | la ronge\n",
      "Processing Record 572 | kovdor\n",
      "Processing Record 573 | santa ines\n",
      "Processing Record 574 | steinbach\n",
      "Processing Record 575 | omaha\n",
      "Processing Record 576 | kudat\n",
      "Processing Record 577 | along\n",
      "Country information not found.\n",
      "Country information not found.\n",
      "Processing Record 578 | russell\n",
      "Processing Record 579 | sao filipe\n",
      "Processing Record 580 | trinidad\n",
      "Processing Record 581 | progreso\n",
      "Processing Record 582 | port-cartier\n",
      "Processing Record 583 | springbok\n",
      "Processing Record 584 | aksu\n",
      "Processing Record 585 | gornopravdinsk\n",
      "Processing Record 586 | thap than\n",
      "Processing Record 587 | kupino\n",
      "Processing Record 588 | la merced\n",
      "Processing Record 589 | acapulco\n",
      "Processing Record 590 | mancio lima\n",
      "Processing Record 591 | fayaoue\n",
      "Processing Record 592 | saint-georges\n",
      "Processing Record 593 | bilma\n",
      "Processing Record 594 | susanville\n",
      "Processing Record 595 | tocopilla\n",
      "Country information not found.\n",
      "Processing Record 596 | pirai do sul\n",
      "Processing Record 597 | loreto\n",
      "Processing Record 598 | xihe\n",
      "Processing Record 599 | nouadhibou\n",
      "Processing Record 600 | veinticinco de mayo\n",
      "Processing Record 601 | cabedelo\n",
      "Processing Record 602 | peniche\n",
      "Processing Record 603 | atambua\n",
      "Processing Record 604 | mormugao\n",
      "Processing Record 605 | cody\n",
      "Processing Record 606 | sakakah\n",
      "Processing Record 607 | masaka\n",
      "Country information not found.\n",
      "Processing Record 608 | kerema\n",
      "Country information not found.\n",
      "Processing Record 609 | yar-sale\n",
      "Processing Record 610 | barra\n",
      "Country information not found.\n",
      "Processing Record 611 | seda\n",
      "Processing Record 612 | marataizes\n",
      "Processing Record 613 | plainview\n",
      "Processing Record 614 | sistranda\n",
      "Processing Record 615 | beringovskiy\n",
      "Processing Record 616 | bagacay\n",
      "Processing Record 617 | sambava\n",
      "Country information not found.\n",
      "Processing Record 618 | san pedro\n",
      "Processing Record 619 | mugla\n",
      "Processing Record 620 | sikonge\n",
      "Processing Record 621 | xichang\n",
      "Processing Record 622 | abu dhabi\n",
      "Country information not found.\n",
      "Processing Record 623 | dicabisagan\n",
      "Processing Record 624 | conakry\n",
      "Processing Record 625 | ranong\n",
      "Processing Record 626 | iquitos\n",
      "Processing Record 627 | chumikan\n",
      "Processing Record 628 | krasnyy kholm\n",
      "Processing Record 629 | keuruu\n",
      "Processing Record 630 | lipari\n",
      "-----------------------------\n",
      "Data Retrieval Complete\n",
      "-----------------------------\n"
     ]
    }
   ],
   "source": [
    "# Set up Count to print for the log\n",
    "\n",
    "count = 1\n",
    "\n",
    "# The beginning of the log\n",
    "\n",
    "print(\"Beginning Data Retrieval     \")\n",
    "print(\"-----------------------------\")\n",
    "\n",
    "# Loop through the list in cities in the city_df and perform the request for data on each of the cities\n",
    "\n",
    "for city in API_cities:\n",
    "    \n",
    "    response = requests.get(query_url + city).json()\n",
    "    \n",
    "    try:\n",
    "        \n",
    "\n",
    "        Lat.append(response['coord']['lat'])\n",
    "        Lng.append(response['coord']['lon'])\n",
    "        Max_Temp.append(response['main']['temp_max'])\n",
    "        Humidity.append(response['main']['humidity'])\n",
    "        Cloudiness.append(response['clouds']['all'])\n",
    "        Wind_Speed.append(response['wind']['speed'])\n",
    "        Country.append(response['sys']['country'])\n",
    "        Date.append(response['dt'])\n",
    "        City.append(city)\n",
    "        \n",
    "        print(f\"Processing Record {count} | {city}\")\n",
    "        \n",
    "        count += 1\n",
    "    \n",
    "    except:\n",
    "        \n",
    "        print(f\"Country information not found.\")\n",
    "        \n",
    "        \n",
    "print(\"-----------------------------\")\n",
    "print(\"Data Retrieval Complete\")\n",
    "print(\"-----------------------------\")"
   ]
  },
  {
   "cell_type": "markdown",
   "metadata": {},
   "source": [
    "### Convert Raw Data to DataFrame\n",
    "* Export the city data into a .csv.\n",
    "* Display the DataFrame"
   ]
  },
  {
   "cell_type": "code",
   "execution_count": 8,
   "metadata": {},
   "outputs": [],
   "source": [
    "# Create a DataFrame for the loop outputs (country weather information)\n",
    "\n",
    "weather_df = pd.DataFrame ({\n",
    "    \"City\":City,\n",
    "    \"Lat\":Lat,\n",
    "    \"Lng\":Lng,\n",
    "    \"Max Temp\":Max_Temp,\n",
    "    \"Humidity\":Humidity,\n",
    "    \"Cloudiness\":Cloudiness,\n",
    "    \"Wind Speed\":Wind_Speed,\n",
    "    \"Country\":Country,\n",
    "    \"Date\":Date})"
   ]
  },
  {
   "cell_type": "code",
   "execution_count": 9,
   "metadata": {},
   "outputs": [],
   "source": [
    "# Export the DataFrame to a csv.\n",
    "\n",
    "weather_df.to_csv('weather_df.csv')\n"
   ]
  },
  {
   "cell_type": "code",
   "execution_count": 10,
   "metadata": {},
   "outputs": [
    {
     "data": {
      "text/html": [
       "<div>\n",
       "<style scoped>\n",
       "    .dataframe tbody tr th:only-of-type {\n",
       "        vertical-align: middle;\n",
       "    }\n",
       "\n",
       "    .dataframe tbody tr th {\n",
       "        vertical-align: top;\n",
       "    }\n",
       "\n",
       "    .dataframe thead th {\n",
       "        text-align: right;\n",
       "    }\n",
       "</style>\n",
       "<table border=\"1\" class=\"dataframe\">\n",
       "  <thead>\n",
       "    <tr style=\"text-align: right;\">\n",
       "      <th></th>\n",
       "      <th>City</th>\n",
       "      <th>Lat</th>\n",
       "      <th>Lng</th>\n",
       "      <th>Max Temp</th>\n",
       "      <th>Humidity</th>\n",
       "      <th>Cloudiness</th>\n",
       "      <th>Wind Speed</th>\n",
       "      <th>Country</th>\n",
       "      <th>Date</th>\n",
       "    </tr>\n",
       "  </thead>\n",
       "  <tbody>\n",
       "    <tr>\n",
       "      <th>0</th>\n",
       "      <td>saint-philippe</td>\n",
       "      <td>-21.3585</td>\n",
       "      <td>55.7679</td>\n",
       "      <td>84.20</td>\n",
       "      <td>65</td>\n",
       "      <td>0</td>\n",
       "      <td>24.16</td>\n",
       "      <td>RE</td>\n",
       "      <td>1616052868</td>\n",
       "    </tr>\n",
       "    <tr>\n",
       "      <th>1</th>\n",
       "      <td>nizhniy kuranakh</td>\n",
       "      <td>58.8353</td>\n",
       "      <td>125.4869</td>\n",
       "      <td>23.68</td>\n",
       "      <td>80</td>\n",
       "      <td>100</td>\n",
       "      <td>5.70</td>\n",
       "      <td>RU</td>\n",
       "      <td>1616052868</td>\n",
       "    </tr>\n",
       "    <tr>\n",
       "      <th>2</th>\n",
       "      <td>rikitea</td>\n",
       "      <td>-23.1203</td>\n",
       "      <td>-134.9692</td>\n",
       "      <td>75.24</td>\n",
       "      <td>86</td>\n",
       "      <td>100</td>\n",
       "      <td>16.08</td>\n",
       "      <td>PF</td>\n",
       "      <td>1616052869</td>\n",
       "    </tr>\n",
       "    <tr>\n",
       "      <th>3</th>\n",
       "      <td>arraial do cabo</td>\n",
       "      <td>-22.9661</td>\n",
       "      <td>-42.0278</td>\n",
       "      <td>75.49</td>\n",
       "      <td>89</td>\n",
       "      <td>70</td>\n",
       "      <td>17.85</td>\n",
       "      <td>BR</td>\n",
       "      <td>1616052870</td>\n",
       "    </tr>\n",
       "    <tr>\n",
       "      <th>4</th>\n",
       "      <td>bilibino</td>\n",
       "      <td>68.0546</td>\n",
       "      <td>166.4372</td>\n",
       "      <td>-16.40</td>\n",
       "      <td>90</td>\n",
       "      <td>0</td>\n",
       "      <td>3.02</td>\n",
       "      <td>RU</td>\n",
       "      <td>1616052389</td>\n",
       "    </tr>\n",
       "  </tbody>\n",
       "</table>\n",
       "</div>"
      ],
      "text/plain": [
       "               City      Lat       Lng  Max Temp  Humidity  Cloudiness  \\\n",
       "0    saint-philippe -21.3585   55.7679     84.20        65           0   \n",
       "1  nizhniy kuranakh  58.8353  125.4869     23.68        80         100   \n",
       "2           rikitea -23.1203 -134.9692     75.24        86         100   \n",
       "3   arraial do cabo -22.9661  -42.0278     75.49        89          70   \n",
       "4          bilibino  68.0546  166.4372    -16.40        90           0   \n",
       "\n",
       "   Wind Speed Country        Date  \n",
       "0       24.16      RE  1616052868  \n",
       "1        5.70      RU  1616052868  \n",
       "2       16.08      PF  1616052869  \n",
       "3       17.85      BR  1616052870  \n",
       "4        3.02      RU  1616052389  "
      ]
     },
     "execution_count": 10,
     "metadata": {},
     "output_type": "execute_result"
    }
   ],
   "source": [
    "# Preview DataFrame\n",
    "weather_df.head()"
   ]
  },
  {
   "cell_type": "markdown",
   "metadata": {},
   "source": [
    "## Inspect the data and remove the cities where the humidity > 100%.\n",
    "----\n",
    "Skip this step if there are no cities that have humidity > 100%. "
   ]
  },
  {
   "cell_type": "code",
   "execution_count": 11,
   "metadata": {},
   "outputs": [
    {
     "data": {
      "text/html": [
       "<div>\n",
       "<style scoped>\n",
       "    .dataframe tbody tr th:only-of-type {\n",
       "        vertical-align: middle;\n",
       "    }\n",
       "\n",
       "    .dataframe tbody tr th {\n",
       "        vertical-align: top;\n",
       "    }\n",
       "\n",
       "    .dataframe thead th {\n",
       "        text-align: right;\n",
       "    }\n",
       "</style>\n",
       "<table border=\"1\" class=\"dataframe\">\n",
       "  <thead>\n",
       "    <tr style=\"text-align: right;\">\n",
       "      <th></th>\n",
       "      <th>City</th>\n",
       "      <th>Lat</th>\n",
       "      <th>Lng</th>\n",
       "      <th>Max Temp</th>\n",
       "      <th>Humidity</th>\n",
       "      <th>Cloudiness</th>\n",
       "      <th>Wind Speed</th>\n",
       "      <th>Country</th>\n",
       "      <th>Date</th>\n",
       "    </tr>\n",
       "  </thead>\n",
       "  <tbody>\n",
       "  </tbody>\n",
       "</table>\n",
       "</div>"
      ],
      "text/plain": [
       "Empty DataFrame\n",
       "Columns: [City, Lat, Lng, Max Temp, Humidity, Cloudiness, Wind Speed, Country, Date]\n",
       "Index: []"
      ]
     },
     "execution_count": 11,
     "metadata": {},
     "output_type": "execute_result"
    }
   ],
   "source": [
    "#  Get the indices of cities that have humidity over 100%.\n",
    "humidity_outlier = weather_df.loc[weather_df[\"Humidity\"] > 100]\n",
    "humidity_outlier"
   ]
  },
  {
   "cell_type": "code",
   "execution_count": 12,
   "metadata": {
    "scrolled": true
   },
   "outputs": [
    {
     "data": {
      "text/html": [
       "<div>\n",
       "<style scoped>\n",
       "    .dataframe tbody tr th:only-of-type {\n",
       "        vertical-align: middle;\n",
       "    }\n",
       "\n",
       "    .dataframe tbody tr th {\n",
       "        vertical-align: top;\n",
       "    }\n",
       "\n",
       "    .dataframe thead th {\n",
       "        text-align: right;\n",
       "    }\n",
       "</style>\n",
       "<table border=\"1\" class=\"dataframe\">\n",
       "  <thead>\n",
       "    <tr style=\"text-align: right;\">\n",
       "      <th></th>\n",
       "      <th>City</th>\n",
       "      <th>Lat</th>\n",
       "      <th>Lng</th>\n",
       "      <th>Max Temp</th>\n",
       "      <th>Humidity</th>\n",
       "      <th>Cloudiness</th>\n",
       "      <th>Wind Speed</th>\n",
       "      <th>Country</th>\n",
       "      <th>Date</th>\n",
       "    </tr>\n",
       "  </thead>\n",
       "  <tbody>\n",
       "    <tr>\n",
       "      <th>0</th>\n",
       "      <td>saint-philippe</td>\n",
       "      <td>-21.3585</td>\n",
       "      <td>55.7679</td>\n",
       "      <td>84.20</td>\n",
       "      <td>65</td>\n",
       "      <td>0</td>\n",
       "      <td>24.16</td>\n",
       "      <td>RE</td>\n",
       "      <td>1616052868</td>\n",
       "    </tr>\n",
       "    <tr>\n",
       "      <th>1</th>\n",
       "      <td>nizhniy kuranakh</td>\n",
       "      <td>58.8353</td>\n",
       "      <td>125.4869</td>\n",
       "      <td>23.68</td>\n",
       "      <td>80</td>\n",
       "      <td>100</td>\n",
       "      <td>5.70</td>\n",
       "      <td>RU</td>\n",
       "      <td>1616052868</td>\n",
       "    </tr>\n",
       "    <tr>\n",
       "      <th>2</th>\n",
       "      <td>rikitea</td>\n",
       "      <td>-23.1203</td>\n",
       "      <td>-134.9692</td>\n",
       "      <td>75.24</td>\n",
       "      <td>86</td>\n",
       "      <td>100</td>\n",
       "      <td>16.08</td>\n",
       "      <td>PF</td>\n",
       "      <td>1616052869</td>\n",
       "    </tr>\n",
       "    <tr>\n",
       "      <th>3</th>\n",
       "      <td>arraial do cabo</td>\n",
       "      <td>-22.9661</td>\n",
       "      <td>-42.0278</td>\n",
       "      <td>75.49</td>\n",
       "      <td>89</td>\n",
       "      <td>70</td>\n",
       "      <td>17.85</td>\n",
       "      <td>BR</td>\n",
       "      <td>1616052870</td>\n",
       "    </tr>\n",
       "    <tr>\n",
       "      <th>4</th>\n",
       "      <td>bilibino</td>\n",
       "      <td>68.0546</td>\n",
       "      <td>166.4372</td>\n",
       "      <td>-16.40</td>\n",
       "      <td>90</td>\n",
       "      <td>0</td>\n",
       "      <td>3.02</td>\n",
       "      <td>RU</td>\n",
       "      <td>1616052389</td>\n",
       "    </tr>\n",
       "  </tbody>\n",
       "</table>\n",
       "</div>"
      ],
      "text/plain": [
       "               City      Lat       Lng  Max Temp  Humidity  Cloudiness  \\\n",
       "0    saint-philippe -21.3585   55.7679     84.20        65           0   \n",
       "1  nizhniy kuranakh  58.8353  125.4869     23.68        80         100   \n",
       "2           rikitea -23.1203 -134.9692     75.24        86         100   \n",
       "3   arraial do cabo -22.9661  -42.0278     75.49        89          70   \n",
       "4          bilibino  68.0546  166.4372    -16.40        90           0   \n",
       "\n",
       "   Wind Speed Country        Date  \n",
       "0       24.16      RE  1616052868  \n",
       "1        5.70      RU  1616052868  \n",
       "2       16.08      PF  1616052869  \n",
       "3       17.85      BR  1616052870  \n",
       "4        3.02      RU  1616052389  "
      ]
     },
     "execution_count": 12,
     "metadata": {},
     "output_type": "execute_result"
    }
   ],
   "source": [
    "# Make a new DataFrame equal to the city data to drop all humidity outliers by index.\n",
    "# Passing \"inplace=False\" will make a copy of the city_data DataFrame, which we call \"clean_city_data\".\n",
    "weather_clean = weather_df.drop(weather_df[weather_df[\"Humidity\"] >100].index, inplace = False)\n",
    "weather_clean.head()"
   ]
  },
  {
   "cell_type": "code",
   "execution_count": 13,
   "metadata": {},
   "outputs": [
    {
     "name": "stdout",
     "output_type": "stream",
     "text": [
      "630\n"
     ]
    }
   ],
   "source": [
    "# Check the number of rows in the clean datafram\n",
    "\n",
    "print(len(weather_clean))"
   ]
  },
  {
   "cell_type": "markdown",
   "metadata": {},
   "source": [
    "## Plotting the Data\n",
    "* Use proper labeling of the plots using plot titles (including date of analysis) and axes labels.\n",
    "* Save the plotted figures as .pngs."
   ]
  },
  {
   "cell_type": "markdown",
   "metadata": {},
   "source": [
    "## Latitude vs. Temperature Plot"
   ]
  },
  {
   "cell_type": "code",
   "execution_count": 14,
   "metadata": {
    "scrolled": false
   },
   "outputs": [
    {
     "data": {
      "image/png": "[encoded data removed]",
      "text/plain": [
       "<Figure size 432x288 with 1 Axes>"
      ]
     },
     "metadata": {
      "needs_background": "light"
     },
     "output_type": "display_data"
    }
   ],
   "source": [
    "# Plot City Latitude vs. Max Temperature\n",
    "\n",
    "x_axis = weather_clean[\"Lat\"]\n",
    "y_axis = weather_clean[\"Max Temp\"]\n",
    "\n",
    "plt.scatter(x_axis, y_axis, marker = \"o\", facecolors = \"steelblue\", edgecolors = \"black\", s = 30)\n",
    "\n",
    "plt.title(\"City Latitude vs. Max Temperature (03/16/21)\")\n",
    "plt.xlabel(\"Latitude\")\n",
    "plt.ylabel(\"Max Temperature (F)\")\n",
    "plt.grid()\n",
    "\n",
    "plt.savefig(\"Latitude vs. Temperature Plot.png\")\n",
    "\n",
    "plt.show()"
   ]
  },
  {
   "cell_type": "markdown",
   "metadata": {},
   "source": [
    "#### The above plot is showing the relationship between city latitude and their max temperature.\n",
    "#### From the plot we can see a trend that when the latitude move towards 0 the max temperature increases, and when the latitude moves away from 0 the max temperature start to decrease again.\n"
   ]
  },
  {
   "cell_type": "markdown",
   "metadata": {},
   "source": [
    "## Latitude vs. Humidity Plot"
   ]
  },
  {
   "cell_type": "code",
   "execution_count": 15,
   "metadata": {
    "scrolled": true
   },
   "outputs": [
    {
     "data": {
      "image/png": "[encoded data removed]",
      "text/plain": [
       "<Figure size 432x288 with 1 Axes>"
      ]
     },
     "metadata": {
      "needs_background": "light"
     },
     "output_type": "display_data"
    }
   ],
   "source": [
    "x_axis = weather_clean[\"Lat\"]\n",
    "y_axis = weather_clean[\"Humidity\"]\n",
    "\n",
    "plt.scatter(x_axis, y_axis, marker = \"o\", facecolors = \"steelblue\", edgecolors = \"black\", s = 30)\n",
    "\n",
    "plt.title(\"City Latitude vs. Humidity (03/16/21)\")\n",
    "plt.xlabel(\"Latitude\")\n",
    "plt.ylabel(\"Humidity (%)\")\n",
    "plt.grid()\n",
    "\n",
    "plt.savefig(\"Latitude vs. Humidity Plot.png\")\n",
    "\n",
    "plt.show()"
   ]
  },
  {
   "cell_type": "markdown",
   "metadata": {},
   "source": [
    "#### The plot is trying to identify the relationship between city latitude and city humidity, trying to discover the impact of latitude on the humidity."
   ]
  },
  {
   "cell_type": "markdown",
   "metadata": {},
   "source": [
    "## Latitude vs. Cloudiness Plot"
   ]
  },
  {
   "cell_type": "code",
   "execution_count": 16,
   "metadata": {
    "scrolled": false
   },
   "outputs": [
    {
     "data": {
      "image/png": "[encoded data removed]",
      "text/plain": [
       "<Figure size 432x288 with 1 Axes>"
      ]
     },
     "metadata": {
      "needs_background": "light"
     },
     "output_type": "display_data"
    }
   ],
   "source": [
    "x_axis = weather_clean[\"Lat\"]\n",
    "y_axis = weather_clean[\"Cloudiness\"]\n",
    "\n",
    "plt.scatter(x_axis, y_axis, marker = \"o\", facecolors = \"steelblue\", edgecolors = \"black\", s = 30)\n",
    "\n",
    "plt.title(\"City Latitude vs. Cloudiness (03/16/21)\")\n",
    "plt.xlabel(\"Latitude\")\n",
    "plt.ylabel(\"Cloudiness (%)\")\n",
    "plt.grid()\n",
    "\n",
    "plt.savefig(\"Latitude vs. Cloudiness Plot.png\")\n",
    "\n",
    "plt.show()"
   ]
  },
  {
   "cell_type": "markdown",
   "metadata": {},
   "source": [
    "#### The above plot is trying to discover the relationship between city latitude and their cloud coverage."
   ]
  },
  {
   "cell_type": "markdown",
   "metadata": {},
   "source": [
    "## Latitude vs. Wind Speed Plot"
   ]
  },
  {
   "cell_type": "code",
   "execution_count": 17,
   "metadata": {},
   "outputs": [
    {
     "data": {
      "image/png": "[encoded data removed]",
      "text/plain": [
       "<Figure size 432x288 with 1 Axes>"
      ]
     },
     "metadata": {
      "needs_background": "light"
     },
     "output_type": "display_data"
    }
   ],
   "source": [
    "x_axis = weather_clean[\"Lat\"]\n",
    "y_axis = weather_clean[\"Wind Speed\"]\n",
    "\n",
    "plt.scatter(x_axis, y_axis, marker = \"o\", facecolors = \"steelblue\", edgecolors = \"black\", s = 30)\n",
    "\n",
    "plt.title(\"City Latitude vs. Wind Speed (03/16/21)\")\n",
    "plt.xlabel(\"Latitude\")\n",
    "plt.ylabel(\"Wind Speed (mph)\")\n",
    "plt.grid()\n",
    "\n",
    "plt.savefig(\"Latitude vs. Wind Speed Plot.png\")\n",
    "\n",
    "plt.show()"
   ]
  },
  {
   "cell_type": "markdown",
   "metadata": {},
   "source": [
    "#### The last plot is plotting the relationship between latitude and wind speed, trying to identify if the wind speed is different when the city is located in different latitude location."
   ]
  },
  {
   "cell_type": "markdown",
   "metadata": {},
   "source": [
    "## Linear Regression"
   ]
  },
  {
   "cell_type": "code",
   "execution_count": 18,
   "metadata": {},
   "outputs": [],
   "source": [
    "# Create new DataFrame for Northern & Souther Hemisphere\n",
    "# Northern Hemisphere (greater than or equal to 0 degrees latitude) and\n",
    "# Southern Hemisphere (less than 0 degrees latitude):\n",
    "\n",
    "northern = weather_clean.loc[weather_clean[\"Lat\"] >= 0]\n",
    "\n",
    "southern = weather_clean.loc[weather_clean[\"Lat\"] < 0]\n"
   ]
  },
  {
   "cell_type": "code",
   "execution_count": 19,
   "metadata": {},
   "outputs": [
    {
     "data": {
      "text/html": [
       "<div>\n",
       "<style scoped>\n",
       "    .dataframe tbody tr th:only-of-type {\n",
       "        vertical-align: middle;\n",
       "    }\n",
       "\n",
       "    .dataframe tbody tr th {\n",
       "        vertical-align: top;\n",
       "    }\n",
       "\n",
       "    .dataframe thead th {\n",
       "        text-align: right;\n",
       "    }\n",
       "</style>\n",
       "<table border=\"1\" class=\"dataframe\">\n",
       "  <thead>\n",
       "    <tr style=\"text-align: right;\">\n",
       "      <th></th>\n",
       "      <th>City</th>\n",
       "      <th>Lat</th>\n",
       "      <th>Lng</th>\n",
       "      <th>Max Temp</th>\n",
       "      <th>Humidity</th>\n",
       "      <th>Cloudiness</th>\n",
       "      <th>Wind Speed</th>\n",
       "      <th>Country</th>\n",
       "      <th>Date</th>\n",
       "    </tr>\n",
       "  </thead>\n",
       "  <tbody>\n",
       "    <tr>\n",
       "      <th>1</th>\n",
       "      <td>nizhniy kuranakh</td>\n",
       "      <td>58.8353</td>\n",
       "      <td>125.4869</td>\n",
       "      <td>23.68</td>\n",
       "      <td>80</td>\n",
       "      <td>100</td>\n",
       "      <td>5.70</td>\n",
       "      <td>RU</td>\n",
       "      <td>1616052868</td>\n",
       "    </tr>\n",
       "    <tr>\n",
       "      <th>4</th>\n",
       "      <td>bilibino</td>\n",
       "      <td>68.0546</td>\n",
       "      <td>166.4372</td>\n",
       "      <td>-16.40</td>\n",
       "      <td>90</td>\n",
       "      <td>0</td>\n",
       "      <td>3.02</td>\n",
       "      <td>RU</td>\n",
       "      <td>1616052389</td>\n",
       "    </tr>\n",
       "    <tr>\n",
       "      <th>5</th>\n",
       "      <td>benatky nad jizerou</td>\n",
       "      <td>50.2909</td>\n",
       "      <td>14.8234</td>\n",
       "      <td>34.00</td>\n",
       "      <td>86</td>\n",
       "      <td>75</td>\n",
       "      <td>5.75</td>\n",
       "      <td>CZ</td>\n",
       "      <td>1616052871</td>\n",
       "    </tr>\n",
       "    <tr>\n",
       "      <th>6</th>\n",
       "      <td>jumla</td>\n",
       "      <td>29.2747</td>\n",
       "      <td>82.1838</td>\n",
       "      <td>64.09</td>\n",
       "      <td>19</td>\n",
       "      <td>56</td>\n",
       "      <td>11.10</td>\n",
       "      <td>NP</td>\n",
       "      <td>1616052872</td>\n",
       "    </tr>\n",
       "    <tr>\n",
       "      <th>8</th>\n",
       "      <td>tiksi</td>\n",
       "      <td>71.6872</td>\n",
       "      <td>128.8694</td>\n",
       "      <td>-25.20</td>\n",
       "      <td>94</td>\n",
       "      <td>100</td>\n",
       "      <td>5.91</td>\n",
       "      <td>RU</td>\n",
       "      <td>1616052873</td>\n",
       "    </tr>\n",
       "  </tbody>\n",
       "</table>\n",
       "</div>"
      ],
      "text/plain": [
       "                  City      Lat       Lng  Max Temp  Humidity  Cloudiness  \\\n",
       "1     nizhniy kuranakh  58.8353  125.4869     23.68        80         100   \n",
       "4             bilibino  68.0546  166.4372    -16.40        90           0   \n",
       "5  benatky nad jizerou  50.2909   14.8234     34.00        86          75   \n",
       "6                jumla  29.2747   82.1838     64.09        19          56   \n",
       "8                tiksi  71.6872  128.8694    -25.20        94         100   \n",
       "\n",
       "   Wind Speed Country        Date  \n",
       "1        5.70      RU  1616052868  \n",
       "4        3.02      RU  1616052389  \n",
       "5        5.75      CZ  1616052871  \n",
       "6       11.10      NP  1616052872  \n",
       "8        5.91      RU  1616052873  "
      ]
     },
     "execution_count": 19,
     "metadata": {},
     "output_type": "execute_result"
    }
   ],
   "source": [
    "northern.head()\n"
   ]
  },
  {
   "cell_type": "code",
   "execution_count": 20,
   "metadata": {},
   "outputs": [
    {
     "name": "stdout",
     "output_type": "stream",
     "text": [
      "440\n"
     ]
    }
   ],
   "source": [
    "print(len(northern))"
   ]
  },
  {
   "cell_type": "code",
   "execution_count": 21,
   "metadata": {},
   "outputs": [
    {
     "data": {
      "text/html": [
       "<div>\n",
       "<style scoped>\n",
       "    .dataframe tbody tr th:only-of-type {\n",
       "        vertical-align: middle;\n",
       "    }\n",
       "\n",
       "    .dataframe tbody tr th {\n",
       "        vertical-align: top;\n",
       "    }\n",
       "\n",
       "    .dataframe thead th {\n",
       "        text-align: right;\n",
       "    }\n",
       "</style>\n",
       "<table border=\"1\" class=\"dataframe\">\n",
       "  <thead>\n",
       "    <tr style=\"text-align: right;\">\n",
       "      <th></th>\n",
       "      <th>City</th>\n",
       "      <th>Lat</th>\n",
       "      <th>Lng</th>\n",
       "      <th>Max Temp</th>\n",
       "      <th>Humidity</th>\n",
       "      <th>Cloudiness</th>\n",
       "      <th>Wind Speed</th>\n",
       "      <th>Country</th>\n",
       "      <th>Date</th>\n",
       "    </tr>\n",
       "  </thead>\n",
       "  <tbody>\n",
       "    <tr>\n",
       "      <th>0</th>\n",
       "      <td>saint-philippe</td>\n",
       "      <td>-21.3585</td>\n",
       "      <td>55.7679</td>\n",
       "      <td>84.20</td>\n",
       "      <td>65</td>\n",
       "      <td>0</td>\n",
       "      <td>24.16</td>\n",
       "      <td>RE</td>\n",
       "      <td>1616052868</td>\n",
       "    </tr>\n",
       "    <tr>\n",
       "      <th>2</th>\n",
       "      <td>rikitea</td>\n",
       "      <td>-23.1203</td>\n",
       "      <td>-134.9692</td>\n",
       "      <td>75.24</td>\n",
       "      <td>86</td>\n",
       "      <td>100</td>\n",
       "      <td>16.08</td>\n",
       "      <td>PF</td>\n",
       "      <td>1616052869</td>\n",
       "    </tr>\n",
       "    <tr>\n",
       "      <th>3</th>\n",
       "      <td>arraial do cabo</td>\n",
       "      <td>-22.9661</td>\n",
       "      <td>-42.0278</td>\n",
       "      <td>75.49</td>\n",
       "      <td>89</td>\n",
       "      <td>70</td>\n",
       "      <td>17.85</td>\n",
       "      <td>BR</td>\n",
       "      <td>1616052870</td>\n",
       "    </tr>\n",
       "    <tr>\n",
       "      <th>7</th>\n",
       "      <td>cape town</td>\n",
       "      <td>-33.9258</td>\n",
       "      <td>18.4232</td>\n",
       "      <td>69.01</td>\n",
       "      <td>82</td>\n",
       "      <td>20</td>\n",
       "      <td>14.97</td>\n",
       "      <td>ZA</td>\n",
       "      <td>1616052613</td>\n",
       "    </tr>\n",
       "    <tr>\n",
       "      <th>9</th>\n",
       "      <td>port alfred</td>\n",
       "      <td>-33.5906</td>\n",
       "      <td>26.8910</td>\n",
       "      <td>75.15</td>\n",
       "      <td>80</td>\n",
       "      <td>78</td>\n",
       "      <td>16.96</td>\n",
       "      <td>ZA</td>\n",
       "      <td>1616052874</td>\n",
       "    </tr>\n",
       "  </tbody>\n",
       "</table>\n",
       "</div>"
      ],
      "text/plain": [
       "              City      Lat       Lng  Max Temp  Humidity  Cloudiness  \\\n",
       "0   saint-philippe -21.3585   55.7679     84.20        65           0   \n",
       "2          rikitea -23.1203 -134.9692     75.24        86         100   \n",
       "3  arraial do cabo -22.9661  -42.0278     75.49        89          70   \n",
       "7        cape town -33.9258   18.4232     69.01        82          20   \n",
       "9      port alfred -33.5906   26.8910     75.15        80          78   \n",
       "\n",
       "   Wind Speed Country        Date  \n",
       "0       24.16      RE  1616052868  \n",
       "2       16.08      PF  1616052869  \n",
       "3       17.85      BR  1616052870  \n",
       "7       14.97      ZA  1616052613  \n",
       "9       16.96      ZA  1616052874  "
      ]
     },
     "execution_count": 21,
     "metadata": {},
     "output_type": "execute_result"
    }
   ],
   "source": [
    "southern.head()\n"
   ]
  },
  {
   "cell_type": "code",
   "execution_count": 22,
   "metadata": {},
   "outputs": [
    {
     "name": "stdout",
     "output_type": "stream",
     "text": [
      "190\n"
     ]
    }
   ],
   "source": [
    "print(len(southern))"
   ]
  },
  {
   "cell_type": "markdown",
   "metadata": {},
   "source": [
    "####  Northern Hemisphere - Max Temp vs. Latitude Linear Regression"
   ]
  },
  {
   "cell_type": "code",
   "execution_count": 23,
   "metadata": {},
   "outputs": [
    {
     "data": {
      "image/png": "[encoded data removed]",
      "text/plain": [
       "<Figure size 432x288 with 1 Axes>"
      ]
     },
     "metadata": {
      "needs_background": "light"
     },
     "output_type": "display_data"
    },
    {
     "name": "stdout",
     "output_type": "stream",
     "text": [
      "The r-squared is: 0.7805649221434592\n"
     ]
    }
   ],
   "source": [
    "\n",
    "x_values = northern[\"Lat\"]\n",
    "y_values = northern[\"Max Temp\"]\n",
    "\n",
    "(slope, intercept, rvalue, pvalue, stderr) = linregress(x_values, y_values)\n",
    "regress_values = x_values * slope + intercept\n",
    "line_eq = \"y = \" + str(round(slope,2)) + \"x + \" + str(round(intercept,2))\n",
    "plt.scatter(x_values,y_values)\n",
    "plt.plot(x_values,regress_values,\"r-\")\n",
    "plt.annotate(line_eq,(15,-25),fontsize=15,color=\"red\")\n",
    "\n",
    "plt.title(\"Northern Hemisphere - Max Temp vs. Latitude\")\n",
    "plt.xlabel(\"Latitude\")\n",
    "plt.ylabel(\"Max Temp\")\n",
    "\n",
    "plt.savefig(\"Northern Hemisphere - Max Temp vs. Latitude.png\")\n",
    "\n",
    "plt.show()\n",
    "\n",
    "print(f\"The r-squared is: {rvalue**2}\")"
   ]
  },
  {
   "cell_type": "markdown",
   "metadata": {},
   "source": [
    "#### From the scatter plot and the linear regression, we could conclude in the Northern hemisphere there is a strong negative correlation between latitude and max temperature. When the latitude increases, the max temperature decreases or in other words the weather become colder."
   ]
  },
  {
   "cell_type": "markdown",
   "metadata": {},
   "source": [
    "####  Southern Hemisphere - Max Temp vs. Latitude Linear Regression"
   ]
  },
  {
   "cell_type": "code",
   "execution_count": 24,
   "metadata": {},
   "outputs": [
    {
     "data": {
      "image/png": "[encoded data removed]",
      "text/plain": [
       "<Figure size 432x288 with 1 Axes>"
      ]
     },
     "metadata": {
      "needs_background": "light"
     },
     "output_type": "display_data"
    },
    {
     "name": "stdout",
     "output_type": "stream",
     "text": [
      "The r-squared is: 0.328794818778171\n"
     ]
    }
   ],
   "source": [
    "\n",
    "x_values = southern[\"Lat\"]\n",
    "y_values = southern[\"Max Temp\"]\n",
    "\n",
    "(slope, intercept, rvalue, pvalue, stderr) = linregress(x_values, y_values)\n",
    "regress_values = x_values * slope + intercept\n",
    "line_eq = \"y = \" + str(round(slope,2)) + \"x + \" + str(round(intercept,2))\n",
    "plt.scatter(x_values,y_values)\n",
    "plt.plot(x_values,regress_values,\"r-\")\n",
    "plt.annotate(line_eq,(-40,45),fontsize=15,color=\"red\")\n",
    "\n",
    "plt.title(\"Southern Hemisphere - Max Temp vs. Latitude\")\n",
    "plt.xlabel(\"Latitude\")\n",
    "plt.ylabel(\"Max Temp\")\n",
    "\n",
    "plt.savefig(\"Southern Hemisphere - Max Temp vs. Latitude.png\")\n",
    "\n",
    "plt.show()\n",
    "\n",
    "print(f\"The r-squared is: {rvalue**2}\")"
   ]
  },
  {
   "cell_type": "markdown",
   "metadata": {},
   "source": [
    "#### Opposite to the result we saw in the Northern hemisphere, in Southern hemisphere there is a weak positive correlation relationship between latitude and max temperature."
   ]
  },
  {
   "cell_type": "markdown",
   "metadata": {},
   "source": [
    "####  Northern Hemisphere - Humidity (%) vs. Latitude Linear Regression"
   ]
  },
  {
   "cell_type": "code",
   "execution_count": 25,
   "metadata": {},
   "outputs": [
    {
     "data": {
      "image/png": "[encoded data removed]",
      "text/plain": [
       "<Figure size 432x288 with 1 Axes>"
      ]
     },
     "metadata": {
      "needs_background": "light"
     },
     "output_type": "display_data"
    },
    {
     "name": "stdout",
     "output_type": "stream",
     "text": [
      "The r-squared is: 0.0824293328350989\n"
     ]
    }
   ],
   "source": [
    "\n",
    "x_values = northern[\"Lat\"]\n",
    "y_values = northern[\"Humidity\"]\n",
    "\n",
    "(slope, intercept, rvalue, pvalue, stderr) = linregress(x_values, y_values)\n",
    "regress_values = x_values * slope + intercept\n",
    "line_eq = \"y = \" + str(round(slope,2)) + \"x + \" + str(round(intercept,2))\n",
    "plt.scatter(x_values,y_values)\n",
    "plt.plot(x_values,regress_values,\"r-\")\n",
    "plt.annotate(line_eq,(45,12),fontsize=15,color=\"red\")\n",
    "\n",
    "plt.title(\"Northern Hemisphere - Humidity (%) vs. Latitude\")\n",
    "plt.xlabel(\"Latitude\")\n",
    "plt.ylabel(\"Humidity (%)\")\n",
    "\n",
    "plt.savefig(\"Northern Hemisphere - Humidity (%) vs. Latitude.png\")\n",
    "\n",
    "plt.show()\n",
    "\n",
    "print(f\"The r-squared is: {rvalue**2}\")"
   ]
  },
  {
   "cell_type": "markdown",
   "metadata": {},
   "source": [
    "#### When looking at the linear regression between Latitude and humidity level in the Northern hemisphere, there is no correlation relationship."
   ]
  },
  {
   "cell_type": "markdown",
   "metadata": {},
   "source": [
    "####  Southern Hemisphere - Humidity (%) vs. Latitude Linear Regression"
   ]
  },
  {
   "cell_type": "code",
   "execution_count": 26,
   "metadata": {},
   "outputs": [
    {
     "data": {
      "image/png": "[encoded data removed]",
      "text/plain": [
       "<Figure size 432x288 with 1 Axes>"
      ]
     },
     "metadata": {
      "needs_background": "light"
     },
     "output_type": "display_data"
    },
    {
     "name": "stdout",
     "output_type": "stream",
     "text": [
      "The r-squared is: 0.047205966060069396\n"
     ]
    }
   ],
   "source": [
    "\n",
    "x_values = southern[\"Lat\"]\n",
    "y_values = southern[\"Humidity\"]\n",
    "\n",
    "(slope, intercept, rvalue, pvalue, stderr) = linregress(x_values, y_values)\n",
    "regress_values = x_values * slope + intercept\n",
    "line_eq = \"y = \" + str(round(slope,2)) + \"x + \" + str(round(intercept,2))\n",
    "plt.scatter(x_values,y_values)\n",
    "plt.plot(x_values,regress_values,\"r-\")\n",
    "plt.annotate(line_eq,(-55,30),fontsize=15,color=\"red\")\n",
    "\n",
    "plt.title(\"Southern Hemisphere - Humidity (%) vs. Latitude\")\n",
    "plt.xlabel(\"Latitude\")\n",
    "plt.ylabel(\"Humidity (%)\")\n",
    "\n",
    "plt.savefig(\"Southern Hemisphere - Humidity (%) vs. Latitude.png\")\n",
    "\n",
    "plt.show()\n",
    "\n",
    "print(f\"The r-squared is: {rvalue**2}\")"
   ]
  },
  {
   "cell_type": "markdown",
   "metadata": {},
   "source": [
    "#### In the Southern hemisphere, there is no correlation relationship between latitude and humidity level."
   ]
  },
  {
   "cell_type": "markdown",
   "metadata": {},
   "source": [
    "####  Northern Hemisphere - Cloudiness (%) vs. Latitude Linear Regression"
   ]
  },
  {
   "cell_type": "code",
   "execution_count": 27,
   "metadata": {},
   "outputs": [
    {
     "data": {
      "image/png": "[encoded data removed]",
      "text/plain": [
       "<Figure size 432x288 with 1 Axes>"
      ]
     },
     "metadata": {
      "needs_background": "light"
     },
     "output_type": "display_data"
    },
    {
     "name": "stdout",
     "output_type": "stream",
     "text": [
      "The r-squared is: 0.05465032763480682\n"
     ]
    }
   ],
   "source": [
    "\n",
    "x_values = northern[\"Lat\"]\n",
    "y_values = northern[\"Cloudiness\"]\n",
    "\n",
    "(slope, intercept, rvalue, pvalue, stderr) = linregress(x_values, y_values)\n",
    "regress_values = x_values * slope + intercept\n",
    "line_eq = \"y = \" + str(round(slope,2)) + \"x + \" + str(round(intercept,2))\n",
    "plt.scatter(x_values,y_values)\n",
    "plt.plot(x_values,regress_values,\"r-\")\n",
    "plt.annotate(line_eq,(40,5),fontsize=15,color=\"red\")\n",
    "\n",
    "plt.title(\"Northern Hemisphere - Cloudiness (%) vs. Latitude\")\n",
    "plt.xlabel(\"Latitude\")\n",
    "plt.ylabel(\"Cloudiness (%)\")\n",
    "\n",
    "plt.savefig(\"Northern Hemisphere - Cloudiness (%) vs. Latitude.png\")\n",
    "\n",
    "plt.show()\n",
    "\n",
    "print(f\"The r-squared is: {rvalue**2}\")"
   ]
  },
  {
   "cell_type": "markdown",
   "metadata": {},
   "source": [
    "#### In the Northern hemisphere, there is no correlation relationship between the cloud coverage and latitude. From the plot we could see the cloudiness are spreaded out across all different latitude."
   ]
  },
  {
   "cell_type": "markdown",
   "metadata": {},
   "source": [
    "####  Southern Hemisphere - Cloudiness (%) vs. Latitude Linear Regression"
   ]
  },
  {
   "cell_type": "code",
   "execution_count": 28,
   "metadata": {},
   "outputs": [
    {
     "data": {
      "image/png": "[encoded data removed]",
      "text/plain": [
       "<Figure size 432x288 with 1 Axes>"
      ]
     },
     "metadata": {
      "needs_background": "light"
     },
     "output_type": "display_data"
    },
    {
     "name": "stdout",
     "output_type": "stream",
     "text": [
      "The r-squared is: 0.1590955770259734\n"
     ]
    }
   ],
   "source": [
    "x_values = southern[\"Lat\"]\n",
    "y_values = southern[\"Cloudiness\"]\n",
    "\n",
    "(slope, intercept, rvalue, pvalue, stderr) = linregress(x_values, y_values)\n",
    "regress_values = x_values * slope + intercept\n",
    "line_eq = \"y = \" + str(round(slope,2)) + \"x + \" + str(round(intercept,2))\n",
    "plt.scatter(x_values,y_values)\n",
    "plt.plot(x_values,regress_values,\"r-\")\n",
    "plt.annotate(line_eq,(-50,10),fontsize=15,color=\"red\")\n",
    "\n",
    "plt.title(\"Southern Hemisphere - Cloudiness (%) vs. Latitude\")\n",
    "plt.xlabel(\"Latitude\")\n",
    "plt.ylabel(\"Cloudiness (%)\")\n",
    "\n",
    "plt.savefig(\"Southern Hemisphere - Cloudiness (%) vs. Latitude.png\")\n",
    "\n",
    "plt.show()\n",
    "\n",
    "print(f\"The r-squared is: {rvalue**2}\")"
   ]
  },
  {
   "cell_type": "markdown",
   "metadata": {},
   "source": [
    "#### Again, if we look at the relationship between cloud coverage and latitude in the Southern hemisphere, there is also no correlation relationship between the two variables."
   ]
  },
  {
   "cell_type": "markdown",
   "metadata": {},
   "source": [
    "####  Northern Hemisphere - Wind Speed (mph) vs. Latitude Linear Regression"
   ]
  },
  {
   "cell_type": "code",
   "execution_count": 29,
   "metadata": {},
   "outputs": [
    {
     "data": {
      "image/png": "[encoded data removed]",
      "text/plain": [
       "<Figure size 432x288 with 1 Axes>"
      ]
     },
     "metadata": {
      "needs_background": "light"
     },
     "output_type": "display_data"
    },
    {
     "name": "stdout",
     "output_type": "stream",
     "text": [
      "The r-squared is: 0.006187055504951213\n"
     ]
    }
   ],
   "source": [
    "x_values = northern[\"Lat\"]\n",
    "y_values = northern[\"Wind Speed\"]\n",
    "\n",
    "(slope, intercept, rvalue, pvalue, stderr) = linregress(x_values, y_values)\n",
    "regress_values = x_values * slope + intercept\n",
    "line_eq = \"y = \" + str(round(slope,2)) + \"x + \" + str(round(intercept,2))\n",
    "plt.scatter(x_values,y_values)\n",
    "plt.plot(x_values,regress_values,\"r-\")\n",
    "plt.annotate(line_eq,(10,30),fontsize=15,color=\"red\")\n",
    "\n",
    "plt.title(\"Northern Hemisphere - Wind Speed (mph) vs. Latitude\")\n",
    "plt.xlabel(\"Latitude\")\n",
    "plt.ylabel(\"Wind Speed (mph)\")\n",
    "\n",
    "plt.savefig(\"Northern Hemisphere - Wind Speed (mph) vs. Latitude.png\")\n",
    "\n",
    "plt.show()\n",
    "\n",
    "print(f\"The r-squared is: {rvalue**2}\")"
   ]
  },
  {
   "cell_type": "markdown",
   "metadata": {},
   "source": [
    "#### Lastly, we want to look at the relationship between latitude & wind speed in the cities in the Northern hemisphere. The plot and the r value is stating that there is no correlation relationship between them."
   ]
  },
  {
   "cell_type": "markdown",
   "metadata": {},
   "source": [
    "####  Southern Hemisphere - Wind Speed (mph) vs. Latitude Linear Regression"
   ]
  },
  {
   "cell_type": "code",
   "execution_count": 30,
   "metadata": {
    "scrolled": true
   },
   "outputs": [
    {
     "data": {
      "image/png": "[encoded data removed]",
      "text/plain": [
       "<Figure size 432x288 with 1 Axes>"
      ]
     },
     "metadata": {
      "needs_background": "light"
     },
     "output_type": "display_data"
    },
    {
     "name": "stdout",
     "output_type": "stream",
     "text": [
      "The r-squared is: 0.1138629688844856\n"
     ]
    }
   ],
   "source": [
    "x_values = southern[\"Lat\"]\n",
    "y_values = southern[\"Wind Speed\"]\n",
    "\n",
    "(slope, intercept, rvalue, pvalue, stderr) = linregress(x_values, y_values)\n",
    "regress_values = x_values * slope + intercept\n",
    "line_eq = \"y = \" + str(round(slope,2)) + \"x + \" + str(round(intercept,2))\n",
    "plt.scatter(x_values,y_values)\n",
    "plt.plot(x_values,regress_values,\"r-\")\n",
    "plt.annotate(line_eq,(-50,17),fontsize=15,color=\"red\")\n",
    "\n",
    "plt.title(\"Southern Hemisphere - Wind Speed (mph) vs. Latitude\")\n",
    "plt.xlabel(\"Latitude\")\n",
    "plt.ylabel(\"Wind Speed (mph)\")\n",
    "\n",
    "plt.savefig(\"Southern Hemisphere - Wind Speed (mph) vs. Latitude.png\")\n",
    "\n",
    "plt.show()\n",
    "\n",
    "print(f\"The r-squared is: {rvalue**2}\")"
   ]
  },
  {
   "cell_type": "markdown",
   "metadata": {},
   "source": [
    "#### If we look at the citieis in the Southern hemisphere, eventho there is a slightly higher r value. There is still no correlation relationship between the wind speed & latitude."
   ]
  },
  {
   "cell_type": "markdown",
   "metadata": {},
   "source": [
    "## Observations"
   ]
  },
  {
   "cell_type": "markdown",
   "metadata": {},
   "source": [
    "#### 1. By looking at the linear regression results between latitude and other variables including max temperature, cloud coverage, humidity and wind speed. We only discovered one correlation relationship between the latitude and max temperature."
   ]
  },
  {
   "cell_type": "markdown",
   "metadata": {},
   "source": [
    "#### 2. However, if we look further into the correlation relationship between latitude and max temperature. When we split the latitudes into Northern and Southern hemisphere. We could identify there is a negative correlation between latitude & max temperature in the Northern hemisphere; the relationship is oppositve in the Southern hemisphere (positive correlation). "
   ]
  },
  {
   "cell_type": "markdown",
   "metadata": {},
   "source": [
    "#### 3. One limitation in the data, eventho we randomly selected 500+ cities, the distribution of cities in the Northern and Southern hemisphere are not even. We have more cities located in the Northern hemisphere, this might be the reason why we are seeing a strong correlation relationship between latitiude and max temperature in the Northern hemisphere but only a weak correlation relationship in the Southern hemisphere. For further analysis, we could increase the number of cities located in the Southern hemisphere to further discover the correlation relationship in Southern hemisphere."
   ]
  },
  {
   "cell_type": "code",
   "execution_count": null,
   "metadata": {},
   "outputs": [],
   "source": []
  }
 ],
 "metadata": {
  "anaconda-cloud": {},
  "kernel_info": {
   "name": "python3"
  },
  "kernelspec": {
   "display_name": "Python 3",
   "language": "python",
   "name": "python3"
  },
  "language_info": {
   "codemirror_mode": {
    "name": "ipython",
    "version": 3
   },
   "file_extension": ".py",
   "mimetype": "text/x-python",
   "name": "python",
   "nbconvert_exporter": "python",
   "pygments_lexer": "ipython3",
   "version": "3.6.10"
  },
  "latex_envs": {
   "LaTeX_envs_menu_present": true,
   "autoclose": false,
   "autocomplete": true,
   "bibliofile": "biblio.bib",
   "cite_by": "apalike",
   "current_citInitial": 1,
   "eqLabelWithNumbers": true,
   "eqNumInitial": 1,
   "hotkeys": {
    "equation": "Ctrl-E",
    "itemize": "Ctrl-I"
   },
   "labels_anchors": false,
   "latex_user_defs": false,
   "report_style_numbering": false,
   "user_envs_cfg": false
  },
  "nteract": {
   "version": "0.12.3"
  }
 },
 "nbformat": 4,
 "nbformat_minor": 2
}
